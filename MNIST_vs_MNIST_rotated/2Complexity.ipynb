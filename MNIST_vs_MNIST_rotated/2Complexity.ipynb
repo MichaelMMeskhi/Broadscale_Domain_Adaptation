{
 "cells": [
  {
   "cell_type": "code",
   "execution_count": 1,
   "metadata": {
    "collapsed": true
   },
   "outputs": [],
   "source": [
    "import matplotlib.pyplot as plt\n",
    "import pandas as pd\n",
    "import numpy as np\n",
    "from scipy import ndimage\n",
    "from sklearn.datasets import make_gaussian_quantiles\n",
    "from sklearn.manifold.t_sne import TSNE\n",
    "from sklearn.tree import DecisionTreeClassifier\n",
    "from sklearn.svm import SVC\n",
    "from sklearn.linear_model import LogisticRegression\n",
    "from sklearn.naive_bayes import GaussianNB\n",
    "import modules.complexity_estimator as ce\n",
    "import modules.util as u\n",
    "from modules.oracle import Oracle\n",
    "from nd_boundary_plot.plots import nd_boundary_plot\n",
    "\n",
    "\n",
    "################################################################################################33\n",
    "#scatter plot of a dataset helper\n",
    "#\n",
    "def plot_ds(grid_size, loc, X, y, xx, yy, title, seeds=None, colspan=1, rowspan=1):\n",
    "\n",
    "    ax = plt.subplot2grid(grid_size, loc, rowspan=rowspan, colspan=colspan)\n",
    "\n",
    "    ax.set_title(title)\n",
    "    # Plot also the training points\n",
    "    ax.scatter(X[:, 0],X[:, 1], c=y)\n",
    "    # and seeds\n",
    "    if seeds is not None:\n",
    "        ax.scatter(X[seeds, 0], X[seeds, 1],\n",
    "                   alpha=1.0, facecolors='magenta')\n",
    "    ax.set_xlim(xx.min(), xx.max())\n",
    "    ax.set_ylim(yy.min(), yy.max())\n",
    "    ax.set_xticks(())\n",
    "    ax.set_yticks(())\n",
    "\n",
    "#perform active learning\n",
    "#\n",
    "def active(classifiers, datasets, experiments, quota=25, plot_every_n=5):\n",
    "    # USE THIS INSTEAD OF YTGT WHICH WE PRETEND TO NOT KNOW\n",
    "\n",
    "    for dsix, ((X_src, y_src), (X_tgt, y_tgt)) in enumerate(datasets):\n",
    "        u_tgt = [None] * len(X_tgt)\n",
    "        est_src = ce.ComplexityEstimator(X_src, y_src, n_windows=10, nK=1)\n",
    "        est_tgt = ce.ComplexityEstimator(X_tgt, y_tgt, n_windows=10, nK=1)\n",
    "        # declare Dataset instance, X is the feature, y is the label (None if unlabeled)\n",
    "        X = np.vstack((X_src, X_tgt))\n",
    "        if X.shape[1] > 2:\n",
    "            X_src_plt = TSNE().fit_transform(X_src)\n",
    "            X_tgt_plt = TSNE().fit_transform(X_tgt)\n",
    "            X_plt = np.vstack((X_src_plt, X_tgt_plt))\n",
    "        elif X.shape[1] == 2:\n",
    "            X_src_plt = X_src\n",
    "            X_tgt_plt = X_tgt\n",
    "            X_plt = X\n",
    "        else:\n",
    "            raise AttributeError\n",
    "\n",
    "        h = .05  # step size in the mesh\n",
    "        x_min, x_max = X_plt[:, 0].min() - h, X_plt[:, 0].max() + h\n",
    "        y_min, y_max = X_plt[:, 1].min() - h, X_plt[:, 1].max() + h\n",
    "        xx, yy = np.meshgrid(np.arange(x_min, x_max, h), np.arange(y_min, y_max, h))\n",
    "        figure = plt.figure(figsize=(27, 13))\n",
    "\n",
    "        grid_size = (1+len(classifiers), 6)\n",
    "        for n, classifier in enumerate(classifiers):\n",
    "\n",
    "            model = classifier\n",
    "            oracle = Oracle(X_tgt, y_tgt)\n",
    "            # plot src\n",
    "            plot_ds(grid_size, (0, 0), X_src_plt, y_src, xx, yy, 'Src', est_src.seeds)\n",
    "            ax = plt.subplot2grid(grid_size, (0,1), colspan=2)\n",
    "            ax.set_title('Src complexity')\n",
    "            Ks, Es = est_src.get_k_complexity()\n",
    "            ax.plot(Ks, Es)\n",
    "            ax.set_xlabel('AUC=' + ('%.2f' % est_src.auc()).lstrip('0'))\n",
    "\n",
    "            #plt tgt\n",
    "            plot_ds(grid_size, (0, 3), X_tgt_plt, y_tgt, xx, yy, 'Tgt', est_tgt.seeds)\n",
    "            ax = plt.subplot2grid(grid_size, (0,4), colspan=2)\n",
    "            Ks, Es = est_tgt.get_k_complexity()\n",
    "            ax.set_title('Tgt complexity')\n",
    "            ax.plot(Ks, Es)\n",
    "            ax.set_xlabel('AUC=' + ('%.2f' % est_tgt.auc()).lstrip('0'))\n",
    "            w = 0\n",
    "            X_known = X_src.tolist()\n",
    "            y_known = y_src.tolist()\n",
    "            for i in range(quota):  # loop through the number of queries\n",
    "                loc, y_loc = oracle.random_query()  # let the specified QueryStrategy suggest a data to query\n",
    "                u_tgt[loc] = y_loc\n",
    "                X_known.append(X_tgt[loc])\n",
    "                y_known.append(y_tgt[loc])\n",
    "                if i == 0 or i % plot_every_n == 0 or i == quota - 1:\n",
    "                    model.fit(X_known, y_known)  # train model with newly-updated Dataset\n",
    "                    score = model.score(X_tgt, y_tgt)\n",
    "                    y_predicted = model.predict(X_tgt)\n",
    "                    ax = plt.subplot2grid(grid_size, (n + 1, w))\n",
    "                    nd_boundary_plot(X_tgt, y_predicted, model, ax)\n",
    "                    if i == 0:\n",
    "                        ax.set_ylabel(u.classname(model))\n",
    "                    if n == 0:\n",
    "                        ax.set_title('# queries=' + str(i))\n",
    "                    ax.set_xlabel('Accuracy='+('%.2f' % score).lstrip('0'))\n",
    "                    w += 1\n",
    "\n",
    "        figure.suptitle(experiments[dsix])\n",
    "        figure.tight_layout()\n",
    "        fname = './vis/' + str(experiments[dsix]) + '.png'\n",
    "        figure.savefig(filename=fname)\n",
    "    plt.tight_layout()\n",
    "    plt.show()"
   ]
  },
  {
   "cell_type": "code",
   "execution_count": 2,
   "metadata": {},
   "outputs": [
    {
     "name": "stdout",
     "output_type": "stream",
     "text": [
      "Got 100 training examples (with 100 labels).\n"
     ]
    }
   ],
   "source": [
    "mnist = pd.read_csv('./data/mnist/train_src_100.csv')\n",
    "labels = mnist.as_matrix(columns=['label'])\n",
    "dataset = mnist.drop('label', axis = 1).as_matrix()\n",
    "dataset[dataset > 0] = 1\n",
    "print('Got', len(dataset), 'training examples (with', len(labels), 'labels).')"
   ]
  },
  {
   "cell_type": "code",
   "execution_count": 3,
   "metadata": {},
   "outputs": [],
   "source": [
    "#data_len = 21000\n",
    "\n",
    "#source_dataset = dataset[:data_len]\n",
    "#source_labels = labels[:data_len]\n",
    "#target_dataset = dataset[data_len:]\n",
    "#target_labels = labels[data_len:]\n",
    "\n",
    "#print(\"Source dataset and labels length: {sd} {sl}\".format(sd = source_dataset.shape, sl = source_labels.shape))\n",
    "#print(\"Target dataset and labels length: {td} {tl}\".format(td = target_dataset.shape, tl = target_labels.shape))"
   ]
  },
  {
   "cell_type": "code",
   "execution_count": 4,
   "metadata": {
    "collapsed": true
   },
   "outputs": [],
   "source": [
    "def mnist(dataset, labels):\n",
    "    \n",
    "    rows = 100\n",
    "    columns = 784\n",
    "    indx = 1\n",
    "    X = []\n",
    "    for image in dataset[:rows*columns]:\n",
    "        img = np.reshape(image, [28, 28])\n",
    "        X.append(img)\n",
    "        indx += 1\n",
    "    X = np.array(X).reshape(rows, -1)\n",
    "    mnist = pd.DataFrame(X)\n",
    "    mnist = mnist.as_matrix()\n",
    "    y = labels.flatten()\n",
    "    \n",
    "    print(\"Completed with X shape: \", mnist.shape)\n",
    "    print(\"Flattened y shape: \", y.shape)\n",
    "    \n",
    "    return mnist, y"
   ]
  },
  {
   "cell_type": "code",
   "execution_count": 5,
   "metadata": {},
   "outputs": [
    {
     "name": "stdout",
     "output_type": "stream",
     "text": [
      "Completed with X shape:  (100, 784)\n",
      "Flattened y shape:  (100,)\n"
     ]
    },
    {
     "data": {
      "text/plain": [
       "(array([[0, 0, 0, ..., 0, 0, 0],\n",
       "        [0, 0, 0, ..., 0, 0, 0],\n",
       "        [0, 0, 0, ..., 0, 0, 0],\n",
       "        ..., \n",
       "        [0, 0, 0, ..., 0, 0, 0],\n",
       "        [0, 0, 0, ..., 0, 0, 0],\n",
       "        [0, 0, 0, ..., 0, 0, 0]]),\n",
       " array([5, 0, 4, 1, 9, 2, 1, 3, 1, 4, 3, 5, 3, 6, 1, 7, 2, 8, 6, 9, 4, 0, 9,\n",
       "        1, 1, 2, 4, 3, 2, 7, 3, 8, 6, 9, 0, 5, 6, 0, 7, 6, 1, 8, 7, 9, 3, 9,\n",
       "        8, 5, 9, 3, 3, 0, 7, 4, 9, 8, 0, 9, 4, 1, 4, 4, 6, 0, 4, 5, 6, 1, 0,\n",
       "        0, 1, 7, 1, 6, 3, 0, 2, 1, 1, 7, 9, 0, 2, 6, 7, 8, 3, 9, 0, 4, 6, 7,\n",
       "        4, 6, 8, 0, 7, 8, 3, 1]))"
      ]
     },
     "execution_count": 5,
     "metadata": {},
     "output_type": "execute_result"
    }
   ],
   "source": [
    "mnist(dataset, labels)"
   ]
  },
  {
   "cell_type": "code",
   "execution_count": 6,
   "metadata": {
    "collapsed": true
   },
   "outputs": [],
   "source": [
    "def mnist_rotated(dataset, labels):\n",
    "    \n",
    "    rows = 100\n",
    "    columns = 784\n",
    "    indx = 1\n",
    "    X = []\n",
    "    for image in dataset[:rows*columns]:\n",
    "        img = np.reshape(image, [28, 28])\n",
    "        rotated = ndimage.rotate(img, 90)\n",
    "        X.append(rotated)\n",
    "        indx += 1\n",
    "    X = np.array(X).reshape(rows, -1)\n",
    "    \n",
    "    mnist_rotated = pd.DataFrame(X)\n",
    "    # mnist_rotated.to_csv('./data/mnist_rotated/minst_rotated_21000.csv', index=False, header=False)\n",
    "    mnist_rotated = mnist_rotated.as_matrix()\n",
    "    \n",
    "    y = labels.flatten()\n",
    "    print(\"Completed with X shape: \", mnist_rotated.shape)\n",
    "    print(\"Flattened y shape: \", y.shape)\n",
    "    \n",
    "    return mnist_rotated, y"
   ]
  },
  {
   "cell_type": "code",
   "execution_count": 7,
   "metadata": {},
   "outputs": [
    {
     "name": "stdout",
     "output_type": "stream",
     "text": [
      "Completed with X shape:  (100, 784)\n",
      "Flattened y shape:  (100,)\n"
     ]
    },
    {
     "data": {
      "text/plain": [
       "(array([[0, 0, 0, ..., 0, 0, 0],\n",
       "        [0, 0, 0, ..., 0, 0, 0],\n",
       "        [0, 0, 0, ..., 0, 0, 0],\n",
       "        ..., \n",
       "        [0, 0, 0, ..., 0, 0, 0],\n",
       "        [0, 0, 0, ..., 0, 0, 0],\n",
       "        [0, 0, 0, ..., 0, 0, 0]]),\n",
       " array([5, 0, 4, 1, 9, 2, 1, 3, 1, 4, 3, 5, 3, 6, 1, 7, 2, 8, 6, 9, 4, 0, 9,\n",
       "        1, 1, 2, 4, 3, 2, 7, 3, 8, 6, 9, 0, 5, 6, 0, 7, 6, 1, 8, 7, 9, 3, 9,\n",
       "        8, 5, 9, 3, 3, 0, 7, 4, 9, 8, 0, 9, 4, 1, 4, 4, 6, 0, 4, 5, 6, 1, 0,\n",
       "        0, 1, 7, 1, 6, 3, 0, 2, 1, 1, 7, 9, 0, 2, 6, 7, 8, 3, 9, 0, 4, 6, 7,\n",
       "        4, 6, 8, 0, 7, 8, 3, 1]))"
      ]
     },
     "execution_count": 7,
     "metadata": {},
     "output_type": "execute_result"
    }
   ],
   "source": [
    "mnist_rotated(dataset, labels)"
   ]
  },
  {
   "cell_type": "code",
   "execution_count": 8,
   "metadata": {},
   "outputs": [
    {
     "name": "stdout",
     "output_type": "stream",
     "text": [
      "Completed with X shape:  (100, 784)\n",
      "Flattened y shape:  (100,)\n",
      "Completed with X shape:  (100, 784)\n",
      "Flattened y shape:  (100,)\n"
     ]
    },
    {
     "ename": "ValueError",
     "evalue": "Model has to be trained first",
     "output_type": "error",
     "traceback": [
      "\u001b[0;31m---------------------------------------------------------------------------\u001b[0m",
      "\u001b[0;31mValueError\u001b[0m                                Traceback (most recent call last)",
      "\u001b[0;32m<ipython-input-8-b7515ea3cc81>\u001b[0m in \u001b[0;36m<module>\u001b[0;34m()\u001b[0m\n\u001b[1;32m     12\u001b[0m \u001b[0;31m# experiments.append('blobs')\u001b[0m\u001b[0;34m\u001b[0m\u001b[0;34m\u001b[0m\u001b[0m\n\u001b[1;32m     13\u001b[0m \u001b[0;34m\u001b[0m\u001b[0m\n\u001b[0;32m---> 14\u001b[0;31m \u001b[0mactive\u001b[0m\u001b[0;34m(\u001b[0m\u001b[0mclassifiers\u001b[0m\u001b[0;34m=\u001b[0m\u001b[0mclfs\u001b[0m\u001b[0;34m,\u001b[0m \u001b[0mdatasets\u001b[0m\u001b[0;34m=\u001b[0m\u001b[0mdatasets\u001b[0m\u001b[0;34m,\u001b[0m \u001b[0mexperiments\u001b[0m\u001b[0;34m=\u001b[0m\u001b[0mexperiments\u001b[0m\u001b[0;34m)\u001b[0m\u001b[0;34m\u001b[0m\u001b[0m\n\u001b[0m",
      "\u001b[0;32m<ipython-input-1-e47b4cc998e3>\u001b[0m in \u001b[0;36mactive\u001b[0;34m(classifiers, datasets, experiments, quota, plot_every_n)\u001b[0m\n\u001b[1;32m     95\u001b[0m                     \u001b[0my_predicted\u001b[0m \u001b[0;34m=\u001b[0m \u001b[0mmodel\u001b[0m\u001b[0;34m.\u001b[0m\u001b[0mpredict\u001b[0m\u001b[0;34m(\u001b[0m\u001b[0mX_tgt\u001b[0m\u001b[0;34m)\u001b[0m\u001b[0;34m\u001b[0m\u001b[0m\n\u001b[1;32m     96\u001b[0m                     \u001b[0max\u001b[0m \u001b[0;34m=\u001b[0m \u001b[0mplt\u001b[0m\u001b[0;34m.\u001b[0m\u001b[0msubplot2grid\u001b[0m\u001b[0;34m(\u001b[0m\u001b[0mgrid_size\u001b[0m\u001b[0;34m,\u001b[0m \u001b[0;34m(\u001b[0m\u001b[0mn\u001b[0m \u001b[0;34m+\u001b[0m \u001b[0;36m1\u001b[0m\u001b[0;34m,\u001b[0m \u001b[0mw\u001b[0m\u001b[0;34m)\u001b[0m\u001b[0;34m)\u001b[0m\u001b[0;34m\u001b[0m\u001b[0m\n\u001b[0;32m---> 97\u001b[0;31m                     \u001b[0mnd_boundary_plot\u001b[0m\u001b[0;34m(\u001b[0m\u001b[0mX_tgt\u001b[0m\u001b[0;34m,\u001b[0m \u001b[0my_predicted\u001b[0m\u001b[0;34m,\u001b[0m \u001b[0mmodel\u001b[0m\u001b[0;34m,\u001b[0m \u001b[0max\u001b[0m\u001b[0;34m)\u001b[0m\u001b[0;34m\u001b[0m\u001b[0m\n\u001b[0m\u001b[1;32m     98\u001b[0m                     \u001b[0;32mif\u001b[0m \u001b[0mi\u001b[0m \u001b[0;34m==\u001b[0m \u001b[0;36m0\u001b[0m\u001b[0;34m:\u001b[0m\u001b[0;34m\u001b[0m\u001b[0m\n\u001b[1;32m     99\u001b[0m                         \u001b[0max\u001b[0m\u001b[0;34m.\u001b[0m\u001b[0mset_ylabel\u001b[0m\u001b[0;34m(\u001b[0m\u001b[0mu\u001b[0m\u001b[0;34m.\u001b[0m\u001b[0mclassname\u001b[0m\u001b[0;34m(\u001b[0m\u001b[0mmodel\u001b[0m\u001b[0;34m)\u001b[0m\u001b[0;34m)\u001b[0m\u001b[0;34m\u001b[0m\u001b[0m\n",
      "\u001b[0;32m~/Documents/Github/active_learning_experiments/MNIST_vs_MNIST_rotated/nd_boundary_plot/plots.py\u001b[0m in \u001b[0;36mnd_boundary_plot\u001b[0;34m(X_tst, model, mesh_limits, ax, resolution)\u001b[0m\n\u001b[1;32m     18\u001b[0m         \u001b[0;32mraise\u001b[0m \u001b[0mValueError\u001b[0m\u001b[0;34m(\u001b[0m\u001b[0;34m\"Must have at least 2 dimensions\"\u001b[0m\u001b[0;34m)\u001b[0m\u001b[0;34m\u001b[0m\u001b[0m\n\u001b[1;32m     19\u001b[0m     \u001b[0;32mif\u001b[0m \u001b[0;32mnot\u001b[0m \u001b[0mhasattr\u001b[0m\u001b[0;34m(\u001b[0m\u001b[0mmodel\u001b[0m\u001b[0;34m,\u001b[0m \u001b[0;34m\"classes_\"\u001b[0m\u001b[0;34m)\u001b[0m\u001b[0;34m:\u001b[0m\u001b[0;34m\u001b[0m\u001b[0m\n\u001b[0;32m---> 20\u001b[0;31m         \u001b[0;32mraise\u001b[0m \u001b[0mValueError\u001b[0m\u001b[0;34m(\u001b[0m\u001b[0;34m\"Model has to be trained first\"\u001b[0m\u001b[0;34m)\u001b[0m\u001b[0;34m\u001b[0m\u001b[0m\n\u001b[0m\u001b[1;32m     21\u001b[0m     \u001b[0;32mif\u001b[0m \u001b[0mlen\u001b[0m\u001b[0;34m(\u001b[0m\u001b[0mmodel\u001b[0m\u001b[0;34m.\u001b[0m\u001b[0mclasses_\u001b[0m\u001b[0;34m)\u001b[0m \u001b[0;34m<\u001b[0m \u001b[0;36m2\u001b[0m\u001b[0;34m:\u001b[0m\u001b[0;34m\u001b[0m\u001b[0m\n\u001b[1;32m     22\u001b[0m         \u001b[0;32mraise\u001b[0m \u001b[0mValueError\u001b[0m\u001b[0;34m(\u001b[0m\u001b[0;34m\"Classification must be at least binary\"\u001b[0m\u001b[0;34m)\u001b[0m\u001b[0;34m\u001b[0m\u001b[0m\n",
      "\u001b[0;31mValueError\u001b[0m: Model has to be trained first"
     ]
    }
   ],
   "source": [
    "clfs = [SVC(), GaussianNB(), LogisticRegression(solver='sag', max_iter=256), DecisionTreeClassifier()]\n",
    "datasets = []\n",
    "experiments = []\n",
    "\n",
    "datasets.append((mnist(dataset, labels), mnist_rotated(dataset, labels)))\n",
    "experiments.append('MNIST_vs_MNIST_Rotated')\n",
    "# datasets.append((u.hastie(500), make_gaussian_quantiles(n_samples=500, n_features=10, n_classes=2)))\n",
    "# experiments.append('hastie_10_2_vs_gauss_quant_10_2')\n",
    "# datasets.append((make_moons(), make_circles()))\n",
    "# experiments.append('moons')\n",
    "# datasets.append((make_blobs(), make_blobs()))\n",
    "# experiments.append('blobs')\n",
    "\n",
    "active(classifiers=clfs, datasets=datasets, experiments=experiments)"
   ]
  },
  {
   "cell_type": "code",
   "execution_count": null,
   "metadata": {
    "collapsed": true
   },
   "outputs": [],
   "source": []
  }
 ],
 "metadata": {
  "kernelspec": {
   "display_name": "Python 3",
   "language": "python",
   "name": "python3"
  },
  "language_info": {
   "codemirror_mode": {
    "name": "ipython",
    "version": 3
   },
   "file_extension": ".py",
   "mimetype": "text/x-python",
   "name": "python",
   "nbconvert_exporter": "python",
   "pygments_lexer": "ipython3",
   "version": "3.6.2"
  }
 },
 "nbformat": 4,
 "nbformat_minor": 2
}
